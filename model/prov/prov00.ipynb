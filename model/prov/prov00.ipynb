{
 "cells": [
  {
   "cell_type": "markdown",
   "metadata": {},
   "source": [
    "# Update environment"
   ]
  },
  {
   "cell_type": "markdown",
   "metadata": {},
   "source": [
    "We use [graphviz](https://graphviz.gitlab.io/download/) to draw schemas.\n",
    "\n",
    "- Using conda, this seems to solve the `dot not found` exception."
   ]
  },
  {
   "cell_type": "code",
   "execution_count": 1,
   "metadata": {},
   "outputs": [
    {
     "name": "stdout",
     "output_type": "stream",
     "text": [
      "Solving environment: done\n",
      "\n",
      "# All requested packages already installed.\n",
      "\n"
     ]
    }
   ],
   "source": [
    "!conda install python-graphviz"
   ]
  },
  {
   "cell_type": "markdown",
   "metadata": {},
   "source": [
    "- Update pip"
   ]
  },
  {
   "cell_type": "code",
   "execution_count": 2,
   "metadata": {},
   "outputs": [
    {
     "name": "stdout",
     "output_type": "stream",
     "text": [
      "Requirement already up-to-date: pip in /anaconda/lib/python3.6/site-packages\n"
     ]
    }
   ],
   "source": [
    "!pip install --upgrade pip"
   ]
  },
  {
   "cell_type": "markdown",
   "metadata": {},
   "source": [
    "- The python [PROV](https://pypi.python.org/pypi/prov) library is an implementation of the [Provenance Data Model](http://www.w3.org/TR/prov-dm/) by the World Wide Web Consortium. A tutorial can be found [here](http://nbviewer.jupyter.org/github/trungdong/notebooks/blob/master/PROV%20Tutorial.ipynb)."
   ]
  },
  {
   "cell_type": "code",
   "execution_count": 3,
   "metadata": {},
   "outputs": [
    {
     "name": "stdout",
     "output_type": "stream",
     "text": [
      "Requirement already satisfied: prov in /anaconda/lib/python3.6/site-packages\n",
      "Requirement already satisfied: rdflib>=4.2.1 in /anaconda/lib/python3.6/site-packages (from prov)\n",
      "Requirement already satisfied: networkx>=2.0 in /anaconda/lib/python3.6/site-packages (from prov)\n",
      "Requirement already satisfied: six>=1.9.0 in /anaconda/lib/python3.6/site-packages (from prov)\n",
      "Requirement already satisfied: python-dateutil>=2.2 in /anaconda/lib/python3.6/site-packages (from prov)\n",
      "Requirement already satisfied: lxml>=3.3.5 in /anaconda/lib/python3.6/site-packages (from prov)\n",
      "Requirement already satisfied: isodate in /anaconda/lib/python3.6/site-packages (from rdflib>=4.2.1->prov)\n",
      "Requirement already satisfied: pyparsing in /anaconda/lib/python3.6/site-packages (from rdflib>=4.2.1->prov)\n",
      "Requirement already satisfied: decorator>=4.1.0 in /anaconda/lib/python3.6/site-packages (from networkx>=2.0->prov)\n"
     ]
    }
   ],
   "source": [
    "!pip install prov"
   ]
  },
  {
   "cell_type": "markdown",
   "metadata": {},
   "source": [
    "- A Python interface to GraphViz and the DOT language: [dot](https://pypi.python.org/pypi/pydot)."
   ]
  },
  {
   "cell_type": "code",
   "execution_count": 4,
   "metadata": {},
   "outputs": [
    {
     "name": "stdout",
     "output_type": "stream",
     "text": [
      "Requirement already satisfied: pydot in /anaconda/lib/python3.6/site-packages\n",
      "Requirement already satisfied: pyparsing>=2.1.4 in /anaconda/lib/python3.6/site-packages (from pydot)\n"
     ]
    }
   ],
   "source": [
    "!pip install pydot"
   ]
  },
  {
   "cell_type": "markdown",
   "metadata": {},
   "source": [
    "- Just to make sure: [graphviz](https://pypi.python.org/pypi/graphviz) once again"
   ]
  },
  {
   "cell_type": "code",
   "execution_count": 5,
   "metadata": {},
   "outputs": [
    {
     "name": "stdout",
     "output_type": "stream",
     "text": [
      "Requirement already satisfied: graphviz in /anaconda/lib/python3.6/site-packages\n"
     ]
    }
   ],
   "source": [
    "!pip install graphviz"
   ]
  }
 ],
 "metadata": {
  "kernelspec": {
   "display_name": "Python 3",
   "language": "python",
   "name": "python3"
  },
  "language_info": {
   "codemirror_mode": {
    "name": "ipython",
    "version": 3
   },
   "file_extension": ".py",
   "mimetype": "text/x-python",
   "name": "python",
   "nbconvert_exporter": "python",
   "pygments_lexer": "ipython3",
   "version": "3.6.4"
  }
 },
 "nbformat": 4,
 "nbformat_minor": 2
}
